{
  "metadata": {
    "kernelspec": {
      "name": "xeus-python",
      "display_name": "Python (XPython)",
      "language": "python"
    },
    "language_info": {
      "file_extension": ".py",
      "mimetype": "text/x-python",
      "name": "python",
      "version": "3.10.2"
    }
  },
  "nbformat_minor": 4,
  "nbformat": 4,
  "cells": [
    {
      "cell_type": "markdown",
      "source": "# Data Science Tools And Ecosystem",
      "metadata": {}
    },
    {
      "cell_type": "markdown",
      "source": "In this notebook, Data Science Tools and Ecosystem are summarized.",
      "metadata": {}
    },
    {
      "cell_type": "markdown",
      "source": "### Some of the popular languages that Data Scientists use are:",
      "metadata": {}
    },
    {
      "cell_type": "markdown",
      "source": "1. Python\n2. R\n3. Java\n4. Go",
      "metadata": {}
    },
    {
      "cell_type": "markdown",
      "source": "### Some of the commonly used libraries used by Data Scientists include:",
      "metadata": {}
    },
    {
      "cell_type": "markdown",
      "source": "1. Vegas\n2. Keras\n3. Pandas\n4. Seaborn",
      "metadata": {}
    },
    {
      "cell_type": "markdown",
      "source": "| Data Science tools |\n| -------------|\n| Anaconda |\n| R Studio  |\n| Spyder|",
      "metadata": {}
    },
    {
      "cell_type": "markdown",
      "source": "### Below are a few examples of evaluating arithmetic expressions in Python",
      "metadata": {}
    },
    {
      "cell_type": "code",
      "source": "(3*4)+5",
      "metadata": {
        "trusted": true
      },
      "outputs": [
        {
          "execution_count": 9,
          "output_type": "execute_result",
          "data": {
            "text/plain": "17"
          },
          "metadata": {}
        }
      ],
      "execution_count": 9
    },
    {
      "cell_type": "code",
      "source": "# this code will convert 200 minutes into hours\ndef minutes_to_hours(minutes):\n    hours = minutes / 60\n    return hours\n\n# Convert 200 minutes to hours\nminutes_input = 200\nhours_output = minutes_to_hours(minutes_input)\n\n# Display the result\nprint(f\"{minutes_input} minutes is equal to {hours_output} hours.\")\n",
      "metadata": {
        "trusted": true
      },
      "outputs": [
        {
          "name": "stdout",
          "text": "200 minutes is equal to 3.3333333333333335 hours.\n",
          "output_type": "stream"
        }
      ],
      "execution_count": 11
    },
    {
      "cell_type": "markdown",
      "source": "### Objectives",
      "metadata": {}
    },
    {
      "cell_type": "markdown",
      "source": "1. To use Jupyter notebook\n2. Add comments to code cells\n3. Learn about different data tools",
      "metadata": {}
    },
    {
      "cell_type": "markdown",
      "source": "### Author's name",
      "metadata": {}
    },
    {
      "cell_type": "code",
      "source": "Tanisha Shetty",
      "metadata": {
        "trusted": true
      },
      "outputs": [],
      "execution_count": null
    }
  ]
}